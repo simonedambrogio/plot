{
 "cells": [
  {
   "cell_type": "code",
   "execution_count": 1,
   "metadata": {},
   "outputs": [
    {
     "name": "stdout",
     "output_type": "stream",
     "text": [
      "[main b5fa8c7] update\n",
      " 17 files changed, 985 insertions(+), 14 deletions(-)\n",
      " create mode 100644 Plots/.Reviron\n",
      " create mode 100644 Plots/.Reviron6\n",
      " create mode 100644 Plots/Plots.Rproj\n",
      " create mode 100644 Plots/Zack/external_coherence.svg\n",
      " create mode 100644 Plots/Zack/external_uncertainty.svg\n",
      " create mode 100644 Plots/Zack/internal_coherence.svg\n",
      " create mode 100644 Plots/Zack/internal_uncertainty.svg\n",
      " create mode 100644 Plots/Zap/external_coherence.svg\n",
      " create mode 100644 Plots/Zap/external_uncertainty.svg\n",
      " create mode 100644 Plots/Zap/internal_coherence.svg\n",
      " create mode 100644 Plots/Zap/internal_uncertainty.svg\n",
      " create mode 100644 Plots/Zeno/external_coherence.svg\n",
      " create mode 100644 Plots/Zeno/external_uncertainty.svg\n",
      " create mode 100644 Plots/Zeno/internal_coherence.svg\n",
      " create mode 100644 Plots/Zeno/internal_uncertainty.svg\n",
      " create mode 100644 Plots/code.R\n",
      "To https://github.com/simonedambrogio/UGM.git\n",
      " ! [rejected]        main -> main (fetch first)\n",
      "error: failed to push some refs to 'https://github.com/simonedambrogio/UGM.git'\n",
      "hint: Updates were rejected because the remote contains work that you do\n",
      "hint: not have locally. This is usually caused by another repository pushing\n",
      "hint: to the same ref. You may want to first integrate the remote changes\n",
      "hint: (e.g., 'git pull ...') before pushing again.\n",
      "hint: See the 'Note about fast-forwards' in 'git push --help' for details.\n"
     ]
    }
   ],
   "source": [
    "! git pull\n",
    "! git add .\n",
    "! git commit -m \"update\"\n",
    "! git push"
   ]
  }
 ],
 "metadata": {
  "kernelspec": {
   "display_name": "Python 3.9.7 ('base')",
   "language": "python",
   "name": "python3"
  },
  "language_info": {
   "codemirror_mode": {
    "name": "ipython",
    "version": 3
   },
   "file_extension": ".py",
   "mimetype": "text/x-python",
   "name": "python",
   "nbconvert_exporter": "python",
   "pygments_lexer": "ipython3",
   "version": "3.9.7"
  },
  "orig_nbformat": 4,
  "vscode": {
   "interpreter": {
    "hash": "ff343ea4008250b1e8b703fe5bc1bd1793e4f244cb85e5e219560f3e3f792b61"
   }
  }
 },
 "nbformat": 4,
 "nbformat_minor": 2
}
