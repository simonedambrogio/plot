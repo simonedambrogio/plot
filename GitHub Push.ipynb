{
 "cells": [
  {
   "cell_type": "code",
   "execution_count": 1,
   "metadata": {},
   "outputs": [
    {
     "name": "stdout",
     "output_type": "stream",
     "text": [
      "Already up to date.\n",
      "[master 697110b] update\n",
      " 2 files changed, 79 insertions(+)\n",
      " create mode 100644 .gitignore\n",
      " create mode 100644 GitHub Push.ipynb\n",
      "remote: Invalid username or password.\n",
      "fatal: Authentication failed for 'https://github.com/simonedambrogio/plot.git/'\n"
     ]
    }
   ],
   "source": [
    "! git pull\n",
    "! git add .\n",
    "! git commit -m \"update\"\n",
    "! git push"
   ]
  }
 ],
 "metadata": {
  "kernelspec": {
   "display_name": "Python 3.9.7 ('base')",
   "language": "python",
   "name": "python3"
  },
  "language_info": {
   "codemirror_mode": {
    "name": "ipython",
    "version": 3
   },
   "file_extension": ".py",
   "mimetype": "text/x-python",
   "name": "python",
   "nbconvert_exporter": "python",
   "pygments_lexer": "ipython3",
   "version": "3.9.7"
  },
  "orig_nbformat": 4,
  "vscode": {
   "interpreter": {
    "hash": "ff343ea4008250b1e8b703fe5bc1bd1793e4f244cb85e5e219560f3e3f792b61"
   }
  }
 },
 "nbformat": 4,
 "nbformat_minor": 2
}
