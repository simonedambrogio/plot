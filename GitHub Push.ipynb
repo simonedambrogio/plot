{
 "cells": [
  {
   "cell_type": "code",
   "execution_count": 3,
   "metadata": {},
   "outputs": [
    {
     "name": "stdout",
     "output_type": "stream",
     "text": [
      "Running R codes... \n",
      "Already up to date.\n",
      "[master 94ed72b] update\n",
      " 4 files changed, 239 deletions(-)\n",
      " delete mode 100644 Zack/external_coherence.svg\n",
      " delete mode 100644 Zack/external_uncertainty.svg\n",
      " delete mode 100644 Zack/internal_coherence.svg\n",
      " delete mode 100644 Zack/internal_uncertainty.svg\n",
      "Counting objects: 2, done.\n",
      "Delta compression using up to 12 threads.\n",
      "Compressing objects: 100% (2/2), done.\n",
      "Writing objects: 100% (2/2), 215 bytes | 215.00 KiB/s, done.\n",
      "Total 2 (delta 1), reused 0 (delta 0)\n",
      "remote: Resolving deltas: 100% (1/1), completed with 1 local object.\u001b[K\n",
      "To https://github.com/simonedambrogio/plot.git\n",
      "   1a06fbf..94ed72b  master -> master\n"
     ]
    }
   ],
   "source": [
    "! cd '/Users/simonedambrogio/Dropbox/Ongoing/Uncertainty/Task/Monkey/PsychoPy/plot'\n",
    "! echo 'Running R codes... '\n",
    "! Rscript code.R\n",
    "! git pull\n",
    "! git add \"Zack\"\n",
    "! git add \"Zap\"\n",
    "! git add \"Zeno\"\n",
    "! git commit -m \"update\"\n",
    "! git push"
   ]
  },
  {
   "cell_type": "code",
   "execution_count": 2,
   "metadata": {},
   "outputs": [
    {
     "name": "stdout",
     "output_type": "stream",
     "text": [
      "/Users/simonedambrogio/Dropbox/Ongoing/Uncertainty/Task/Monkey/PsychoPy/plot\n"
     ]
    }
   ],
   "source": [
    "# ! pwd"
   ]
  },
  {
   "cell_type": "code",
   "execution_count": null,
   "metadata": {},
   "outputs": [],
   "source": []
  }
 ],
 "metadata": {
  "kernelspec": {
   "display_name": "Python 3.9.7 ('base')",
   "language": "python",
   "name": "python3"
  },
  "language_info": {
   "codemirror_mode": {
    "name": "ipython",
    "version": 3
   },
   "file_extension": ".py",
   "mimetype": "text/x-python",
   "name": "python",
   "nbconvert_exporter": "python",
   "pygments_lexer": "ipython3",
   "version": "3.9.7"
  },
  "orig_nbformat": 4,
  "vscode": {
   "interpreter": {
    "hash": "ff343ea4008250b1e8b703fe5bc1bd1793e4f244cb85e5e219560f3e3f792b61"
   }
  }
 },
 "nbformat": 4,
 "nbformat_minor": 2
}
